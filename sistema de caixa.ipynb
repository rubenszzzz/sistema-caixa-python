{
  "nbformat": 4,
  "nbformat_minor": 0,
  "metadata": {
    "colab": {
      "provenance": []
    },
    "kernelspec": {
      "name": "python3",
      "display_name": "Python 3"
    },
    "language_info": {
      "name": "python"
    }
  },
  "cells": [
    {
      "cell_type": "code",
      "execution_count": null,
      "metadata": {
        "id": "SKasjBY7lrHZ"
      },
      "outputs": [],
      "source": [
        "produtos = []\n",
        "precos = []\n",
        "\n",
        "while True:\n",
        "    print(\"\\n=== Sistema de Caixa ===\")\n",
        "    print(\"1 - Adicionar produto\")\n",
        "    print(\"2 - Ver carrinho\")\n",
        "    print(\"3 - Remover produto\")\n",
        "    print(\"4 - Finalizar compra\")\n",
        "\n",
        "    opcao = input(\"Escolha uma opção: \")\n",
        "\n",
        "    if opcao == \"1\":\n",
        "        nome = input(\"Nome do produto: \").strip().title()\n",
        "        preco = input(\"Preço do produto: \").strip()\n",
        "\n",
        "        # Validar se preço é número válido\n",
        "        if preco.replace('.', '', 1).isdigit():\n",
        "            preco = float(preco)\n",
        "            produtos.append(nome)\n",
        "            precos.append(preco)\n",
        "            print(f\"Produto '{nome}' adicionado ao carrinho por R$ {preco:.2f}\")\n",
        "        else:\n",
        "            print(\"Preço inválido. Tente novamente.\")\n",
        "\n",
        "    elif opcao == \"2\":\n",
        "        if not produtos:\n",
        "            print(\"Carrinho vazio.\")\n",
        "        else:\n",
        "            print(\"\\nProdutos no carrinho:\")\n",
        "            for i, (produto, preco) in enumerate(zip(produtos, precos), 1):\n",
        "                print(f\"{i}. {produto} - R$ {preco:.2f}\")\n",
        "            total = sum(precos)\n",
        "            print(f\"Total: R$ {total:.2f}\")\n",
        "\n",
        "    elif opcao == \"3\":\n",
        "        if not produtos:\n",
        "            print(\"Carrinho vazio.\")\n",
        "        else:\n",
        "            print(\"\\nProdutos no carrinho:\")\n",
        "            for i, produto in enumerate(produtos, 1):\n",
        "                print(f\"{i}. {produto}\")\n",
        "            try:\n",
        "                escolha = int(input(\"Número do produto para remover: \"))\n",
        "                if 1 <= escolha <= len(produtos):\n",
        "                    removido = produtos.pop(escolha - 1)\n",
        "                    preco_removido = precos.pop(escolha - 1)\n",
        "                    print(f\"Produto '{removido}' removido do carrinho.\")\n",
        "                else:\n",
        "                    print(\"Número inválido.\")\n",
        "            except ValueError:\n",
        "                print(\"Digite um número válido.\")\n",
        "\n",
        "    elif opcao == \"4\":\n",
        "        if not produtos:\n",
        "            print(\"Carrinho vazio. Nada para finalizar.\")\n",
        "        else:\n",
        "            total = sum(precos)\n",
        "            print(\"\\nCompra finalizada!\")\n",
        "            print(\"Produtos comprados:\")\n",
        "            for produto, preco in zip(produtos, precos):\n",
        "                print(f\"- {produto}: R$ {preco:.2f}\")\n",
        "            print(f\"Valor total: R$ {total:.2f}\")\n",
        "        break\n",
        "\n",
        "    else:\n",
        "        print(\"Opção inválida. Tente novamente.\")\n"
      ]
    }
  ]
}